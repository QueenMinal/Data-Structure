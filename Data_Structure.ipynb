{
  "nbformat": 4,
  "nbformat_minor": 0,
  "metadata": {
    "colab": {
      "provenance": []
    },
    "kernelspec": {
      "name": "python3",
      "display_name": "Python 3"
    },
    "language_info": {
      "name": "python"
    }
  },
  "cells": [
    {
      "cell_type": "markdown",
      "source": [
        "# Data Type and Structura Questions:-"
      ],
      "metadata": {
        "id": "5ViI7w2dqW9o"
      }
    },
    {
      "cell_type": "markdown",
      "source": [
        "Q.1 what are data structures, and why are thay important?\n",
        "\n",
        "  -> Data structures are a way to organize data on a computer so that it can be processed, stored, and retrieved quickly and effectively.\n",
        "\n",
        "Importanrance:-\n",
        "\n",
        "  Data structure are important because they help computer process large amounts of data efficiently and make code easier to underswtand."
      ],
      "metadata": {
        "id": "7Ocw7QVqqaIl"
      }
    },
    {
      "cell_type": "markdown",
      "source": [
        "Q.2 Explain the difference between mutable and immutable data types with examples?\n",
        "\n",
        "  -> Mutable:- an object is mutable if its state or value can be changed after it is created.\n",
        "  examples: Lists, dictionaries, and sets are mutable.\n",
        "\n",
        "Immutable:- an object is immutable if its state or value cannot be modified after it is created.\n",
        "examples: Integers,strings, and tuples are immutable."
      ],
      "metadata": {
        "id": "6gyYftQPq0dd"
      }
    },
    {
      "cell_type": "markdown",
      "source": [
        " Q.3 What are the main difference between lists and tuples in python?\n",
        "\n",
        "  -> The main difference between lists and tuples are lists are mutable objects. this means lists objects can be changed or modified.while tuples are immutable objects, which cannor be modified."
      ],
      "metadata": {
        "id": "q1vXOUnhtAZ9"
      }
    },
    {
      "cell_type": "markdown",
      "source": [
        "Q.4 Describe how dictionaries store data?\n",
        "\n",
        "  -> Dictionary allows you to store data values in key:value pairs."
      ],
      "metadata": {
        "id": "FohasXG1xL-3"
      }
    },
    {
      "cell_type": "markdown",
      "source": [
        "Q.5 Why might you use a set instead of a list in python?\n",
        "\n",
        "  -> One of the main advantages of using sets  in python is that they are highly optimized for membership tests or when the uniqueness of elements is crucial and order doesn't matter.\n"
      ],
      "metadata": {
        "id": "Ik8_riZkxJud"
      }
    },
    {
      "cell_type": "markdown",
      "source": [
        "Q.6 What is the a string in python, and how is it diffenent from a list?\n",
        "\n",
        "-> A string is a sequence of characters enclosed in either quotes(\") or double quotes(\"\").\n",
        "  the diffence between string and list is string is a sequence of characters. while, list is a sequence of characters, integers or even another list."
      ],
      "metadata": {
        "id": "ICQBhiK4xQOl"
      }
    },
    {
      "cell_type": "markdown",
      "source": [
        "Q.7 How do tuples ensure data integrity in python?\n",
        "\n",
        "-> Tuples are an essential dat structure in python, representing an immutable. once a tuple is created, its contents cannot be changed. this immutability makes tuples a reliable choice for storing fixed collection of data."
      ],
      "metadata": {
        "id": "4-sWlfVmxRo2"
      }
    },
    {
      "cell_type": "markdown",
      "source": [
        "\n",
        "Q.8 What is a hash table, and how does it relate to dictionaries in python?\n",
        "\n",
        "-> A hash table is a data structure that stores key-value pairs in an array, using a hash function to determine the index of each data item. in python, the dictionary data represent the implementation of hash tables."
      ],
      "metadata": {
        "id": "nNgezF0lxUfl"
      }
    },
    {
      "cell_type": "markdown",
      "source": [
        "Q.9 Can lists contain different data types in python?\n",
        "\n",
        "-> Although it's not really common, a list can also contain a mix of python types including strings, floats, and booleans."
      ],
      "metadata": {
        "id": "fM8OlfP7xVx_"
      }
    },
    {
      "cell_type": "markdown",
      "source": [
        "Q.10 Explain why strings are immutable in python?\n",
        "\n",
        "  -> We cannot change the strings after they are ctreated. we  can't change the strings that why they are immutable in python."
      ],
      "metadata": {
        "id": "0BOQUyiKxWy3"
      }
    },
    {
      "cell_type": "markdown",
      "source": [
        "Q.11 What advantages do dictionaries offers  over lists for certain tasks?\n",
        "\n",
        "-> Dictionarys have two parts to every entry the key and the value and these are stored as pairs. this can give you more flexibility when storing data. the primary advantage would be retrieving stored values as it is much simpler to serch through a dictonary."
      ],
      "metadata": {
        "id": "tQFhCTchxYLd"
      }
    },
    {
      "cell_type": "markdown",
      "source": [
        "Q.12 Describe a scenario where using a tuple would be preferable over a list?\n",
        "\n",
        "  -> When creating a employee ID in a company tuple would be preferable over a list because list can be changed but tuple cannot be changed in this scenario the immutable tuple wii be best choice."
      ],
      "metadata": {
        "id": "q8OsZu9NxYzE"
      }
    },
    {
      "cell_type": "markdown",
      "source": [
        "Q.13 How do sets handle duplicate values in python?\n",
        "\n",
        "  -> Items of a set in python are immutable, do not duplicate values, and unordered. thus, item in a set do not appear in stipulated manner,i.e., they can appear in different order every time it is used. due to this, set items cannot be rffered to by key or indexx."
      ],
      "metadata": {
        "id": "rgSkfhToxZT1"
      }
    },
    {
      "cell_type": "markdown",
      "source": [
        "Q.14 How does the \"in\" keyword work differently for lists and dictionaries?\n",
        "\n",
        "  -> The \"in\" keyword in python returns true if a certain elements is presents in a python objects, else it will return false.\n",
        "\n",
        "  \"in\" keyword is used to test whether certain characters are present in a string or a certain value present in a list or tuple."
      ],
      "metadata": {
        "id": "nLvIs7To844s"
      }
    },
    {
      "cell_type": "markdown",
      "source": [
        "Q.15 Can you modify the elements of a tuple? explain why or why not?\n",
        "\n",
        "  -> No, we cannot modify the elements of a tuple because tuple is immutable. its objects or elements cannot be changed."
      ],
      "metadata": {
        "id": "rjR25JGaxam9"
      }
    },
    {
      "cell_type": "markdown",
      "source": [
        "Q.16 What is a nested dictionary, and give an example of its use case?\n",
        "\n",
        "  -> In python, a nested dictionary is a dictionary inside another dictionary.\n",
        "\n",
        "  use case1 :- Organise employees by department, with each employee's details in a nested dictionary.\n",
        "\n",
        "  use case2 :- Track product categories, subcategories, and individual product details."
      ],
      "metadata": {
        "id": "Qfcsekbd86c3"
      }
    },
    {
      "cell_type": "markdown",
      "source": [
        "Q.17 Describe the time complaxity of accessing elements in a dictionary?\n",
        "\n",
        "  -> The time complexity of accessing an element in a python dictionary is O(1) on average, which means it takes a constant amount of time to retrive an element, regardless of the dictionary size."
      ],
      "metadata": {
        "id": "56hXWnjh8-mO"
      }
    },
    {
      "cell_type": "markdown",
      "source": [
        "Q.18 In what situations are lists preffered over dictionaries?\n",
        "\n",
        "  -> List are preferred when we want to make a survey in a hospital for the use of certain drugs from made by a pharma company. in which we can make 2 files of same patient who is taking 2 types of drug because he has 2 or 3 types of deases which need treatment."
      ],
      "metadata": {
        "id": "v5H9OfTQ8_Bs"
      }
    },
    {
      "cell_type": "markdown",
      "source": [
        "Q.19 why are dictionaries considered unordered, how does that affect data retrieval?\n",
        "\n",
        "  -> Dectionaries are unordered because python dictionaries are not intended to be in order.If dictionary is unorderd means that any time you loop through a dictionary, you  will go through every key, but you are not guaranteed to get them in any particular order."
      ],
      "metadata": {
        "id": "XOeaB6NcRnEY"
      }
    },
    {
      "cell_type": "markdown",
      "source": [
        "Q.20 Explain the difference between a list and a dictionary in terms of data retrieval?\n",
        "\n",
        "  -> If we want to retrieve the data we can retrieve it in sequence by using list but we cannot retrieve the data in sequence by usinf dictionaries because it is unordered."
      ],
      "metadata": {
        "id": "oTzxenWT9CK9"
      }
    },
    {
      "cell_type": "markdown",
      "source": [
        "## **Practical Questions:-**"
      ],
      "metadata": {
        "id": "0z78VLC7WeJp"
      }
    },
    {
      "cell_type": "code",
      "source": [
        "# 1. Write a code to create a string with your name and print it\n",
        "a = \"Minal\"\n",
        "print(a)"
      ],
      "metadata": {
        "colab": {
          "base_uri": "https://localhost:8080/"
        },
        "id": "PUaAmucEWrQS",
        "outputId": "b63eeba9-5a2b-4fc3-d51e-2c4c25099901"
      },
      "execution_count": 2,
      "outputs": [
        {
          "output_type": "stream",
          "name": "stdout",
          "text": [
            "Minal\n"
          ]
        }
      ]
    },
    {
      "cell_type": "code",
      "source": [
        "# 2. Write a code to find the length of the string \"Hello World\"\n",
        "a = \"Hello World\"\n",
        "len(a)\n"
      ],
      "metadata": {
        "colab": {
          "base_uri": "https://localhost:8080/"
        },
        "id": "MCdm1jG6dF1A",
        "outputId": "f0994d45-5470-4ce4-872f-b20d3d949bde"
      },
      "execution_count": 3,
      "outputs": [
        {
          "output_type": "execute_result",
          "data": {
            "text/plain": [
              "11"
            ]
          },
          "metadata": {},
          "execution_count": 3
        }
      ]
    },
    {
      "cell_type": "code",
      "source": [
        "# 3.Write a code to slice the first 3 characters from the string \"Python Programming\"\n",
        "a = \"Python Programming\"\n",
        "print(a[0:3])"
      ],
      "metadata": {
        "colab": {
          "base_uri": "https://localhost:8080/"
        },
        "id": "Vz9vhRskf6-4",
        "outputId": "18253a96-001a-4b4f-9fee-4af83ed56904"
      },
      "execution_count": 5,
      "outputs": [
        {
          "output_type": "stream",
          "name": "stdout",
          "text": [
            "Pyt\n"
          ]
        }
      ]
    },
    {
      "cell_type": "code",
      "source": [
        "# 4. Write a code to convert the string \"hello\" to uppercase\n",
        "Text = \"hello\"\n",
        "Text.upper()"
      ],
      "metadata": {
        "colab": {
          "base_uri": "https://localhost:8080/",
          "height": 35
        },
        "id": "8ucWraLugqgE",
        "outputId": "5de14174-b114-46d4-8be0-80d20c27f99a"
      },
      "execution_count": 6,
      "outputs": [
        {
          "output_type": "execute_result",
          "data": {
            "text/plain": [
              "'HELLO'"
            ],
            "application/vnd.google.colaboratory.intrinsic+json": {
              "type": "string"
            }
          },
          "metadata": {},
          "execution_count": 6
        }
      ]
    },
    {
      "cell_type": "code",
      "source": [
        "# 5.Write a code to replace the word \"apple\" with \"orange\" in the string \"I like apple\"\n",
        "a = \"I like apple\"\n",
        "a.replace(\"apple\",\"orange\")\n"
      ],
      "metadata": {
        "colab": {
          "base_uri": "https://localhost:8080/",
          "height": 35
        },
        "id": "JzxseEGwjXsC",
        "outputId": "110b785e-2fa0-430e-b300-7e3cee7f2488"
      },
      "execution_count": 7,
      "outputs": [
        {
          "output_type": "execute_result",
          "data": {
            "text/plain": [
              "'I like orange'"
            ],
            "application/vnd.google.colaboratory.intrinsic+json": {
              "type": "string"
            }
          },
          "metadata": {},
          "execution_count": 7
        }
      ]
    },
    {
      "cell_type": "code",
      "source": [
        "# 6. Write a code to create a list with numbers 1 to 5 and print it\n",
        "list = [1, 2, 3, 4, 5]\n",
        "print(list)"
      ],
      "metadata": {
        "colab": {
          "base_uri": "https://localhost:8080/"
        },
        "id": "hWGqXf1FkygS",
        "outputId": "3ec0c0c3-5bc6-4ddf-eeef-2b2d777aa1ac"
      },
      "execution_count": 8,
      "outputs": [
        {
          "output_type": "stream",
          "name": "stdout",
          "text": [
            "[1, 2, 3, 4, 5]\n"
          ]
        }
      ]
    },
    {
      "cell_type": "code",
      "source": [
        "# 7. Write a code to append the number 10 to the list [1, 2, 3, 4]\n",
        "list = [1, 2, 3, 4]\n",
        "list.append(10)\n",
        "print(list)"
      ],
      "metadata": {
        "colab": {
          "base_uri": "https://localhost:8080/"
        },
        "id": "AY7KGtOZkcj-",
        "outputId": "04eb15ae-2740-4771-c3d5-45d86c1f05dc"
      },
      "execution_count": 13,
      "outputs": [
        {
          "output_type": "stream",
          "name": "stdout",
          "text": [
            "[1, 2, 3, 4, 10]\n"
          ]
        }
      ]
    },
    {
      "cell_type": "code",
      "source": [
        "# 8. Write a code to remove the number 3 from the list [1, 2, 3, 4, 5]\n",
        "list = [1, 2, 3, 4, 5]\n",
        "list.remove(3)\n",
        "print(list)"
      ],
      "metadata": {
        "colab": {
          "base_uri": "https://localhost:8080/"
        },
        "id": "gR7ILE8ql0Ke",
        "outputId": "615e5583-a816-486f-e70c-f95049afc7af"
      },
      "execution_count": 14,
      "outputs": [
        {
          "output_type": "stream",
          "name": "stdout",
          "text": [
            "[1, 2, 4, 5]\n"
          ]
        }
      ]
    },
    {
      "cell_type": "code",
      "source": [
        "# 9. Write a code to access the second element in the list ['a', 'b', 'c', 'd']\n",
        "list = ['a', 'b', 'c', 'd']\n",
        "print(list[1])"
      ],
      "metadata": {
        "colab": {
          "base_uri": "https://localhost:8080/"
        },
        "id": "RobPffyjmj48",
        "outputId": "5e692f04-9a66-4b66-ecb7-143058511629"
      },
      "execution_count": 15,
      "outputs": [
        {
          "output_type": "stream",
          "name": "stdout",
          "text": [
            "b\n"
          ]
        }
      ]
    },
    {
      "cell_type": "code",
      "source": [
        "# 10. Write a code to reverse the list [10, 20, 30, 40, 50].\n",
        "list = [10, 20, 30, 40, 50]\n",
        "list.reverse()\n",
        "print(list)"
      ],
      "metadata": {
        "colab": {
          "base_uri": "https://localhost:8080/"
        },
        "id": "OJ9hbCOanF1-",
        "outputId": "d23e2aff-8c25-40c2-c89d-348456d3275f"
      },
      "execution_count": 16,
      "outputs": [
        {
          "output_type": "stream",
          "name": "stdout",
          "text": [
            "[50, 40, 30, 20, 10]\n"
          ]
        }
      ]
    },
    {
      "cell_type": "code",
      "source": [
        "# 11.  Write a code to create a tuple with the elements 10, 20, 30 and print it\n",
        "tuple = (10,20,30)\n",
        "print(tuple)"
      ],
      "metadata": {
        "colab": {
          "base_uri": "https://localhost:8080/"
        },
        "id": "Ln3XS9D6nlEY",
        "outputId": "4777a6ef-54c9-4a7f-86aa-baa77824ed42"
      },
      "execution_count": 17,
      "outputs": [
        {
          "output_type": "stream",
          "name": "stdout",
          "text": [
            "(10, 20, 30)\n"
          ]
        }
      ]
    },
    {
      "cell_type": "code",
      "source": [
        "# 12. Write a code to access the first element of the tuple ('apple', 'banana', 'cherry').\n",
        "tuple = ('apple', 'banana', 'cherry')\n",
        "print(tuple[0])"
      ],
      "metadata": {
        "colab": {
          "base_uri": "https://localhost:8080/"
        },
        "id": "yQj4T4Ekn4Bn",
        "outputId": "66174894-87aa-4018-e90a-ec82fc4df3a1"
      },
      "execution_count": 18,
      "outputs": [
        {
          "output_type": "stream",
          "name": "stdout",
          "text": [
            "apple\n"
          ]
        }
      ]
    },
    {
      "cell_type": "code",
      "source": [
        "# 13. Write a code to count how many times the number 2 appears in the tuple (1, 2, 3, 2, 4, 2).\n",
        "tuple = (1, 2, 3, 2, 4, 2)\n",
        "tuple.count(2)\n"
      ],
      "metadata": {
        "colab": {
          "base_uri": "https://localhost:8080/"
        },
        "id": "5bdCjBFgoUVg",
        "outputId": "efa4630a-e019-418a-eac1-8849f315881c"
      },
      "execution_count": 19,
      "outputs": [
        {
          "output_type": "execute_result",
          "data": {
            "text/plain": [
              "3"
            ]
          },
          "metadata": {},
          "execution_count": 19
        }
      ]
    },
    {
      "cell_type": "code",
      "source": [
        "# 14. Write a code to find the index of the element \"cat\" in the tuple ('dog', 'cat', 'rabbit').\n",
        "tuple = ('dog', 'cat', 'rabbit')\n",
        "tuple.index(\"cat\")"
      ],
      "metadata": {
        "colab": {
          "base_uri": "https://localhost:8080/"
        },
        "id": "ELGS1h-OouS0",
        "outputId": "f06f47fb-266a-404e-8987-1dfc736c287a"
      },
      "execution_count": 20,
      "outputs": [
        {
          "output_type": "execute_result",
          "data": {
            "text/plain": [
              "1"
            ]
          },
          "metadata": {},
          "execution_count": 20
        }
      ]
    },
    {
      "cell_type": "code",
      "source": [
        "# 15. Write a code to check if the element \"banana\" is in the tuple ('apple', 'orange', 'banana').\n",
        "tuple = ('apple', 'orange', 'banana')\n",
        "\"banana\" in tuple"
      ],
      "metadata": {
        "colab": {
          "base_uri": "https://localhost:8080/"
        },
        "id": "pUA-M01SpKkZ",
        "outputId": "3594a5e4-f4a7-482f-b948-f7be4118551e"
      },
      "execution_count": 21,
      "outputs": [
        {
          "output_type": "execute_result",
          "data": {
            "text/plain": [
              "True"
            ]
          },
          "metadata": {},
          "execution_count": 21
        }
      ]
    },
    {
      "cell_type": "code",
      "source": [
        "# 16. Write a code to create a set with the elements 1, 2, 3, 4, 5 and print it\n",
        "set = {1, 2, 3, 4, 5}\n",
        "print(set)"
      ],
      "metadata": {
        "colab": {
          "base_uri": "https://localhost:8080/"
        },
        "id": "srqj4EcVpl-2",
        "outputId": "80421c18-7f92-4ca1-8a64-79e70580291d"
      },
      "execution_count": 23,
      "outputs": [
        {
          "output_type": "stream",
          "name": "stdout",
          "text": [
            "{1, 2, 3, 4, 5}\n"
          ]
        }
      ]
    },
    {
      "cell_type": "code",
      "source": [
        "# 17. Write a code to add the element 6 to the set {1, 2, 3, 4}.\n",
        "set = {1, 2, 3,4}\n",
        "set.add(6)\n",
        "print(set)\n"
      ],
      "metadata": {
        "colab": {
          "base_uri": "https://localhost:8080/"
        },
        "id": "A4H7wUZCqJI3",
        "outputId": "2a07d654-2d46-4573-e741-9f6fa5eb2acb"
      },
      "execution_count": 24,
      "outputs": [
        {
          "output_type": "stream",
          "name": "stdout",
          "text": [
            "{1, 2, 3, 4, 6}\n"
          ]
        }
      ]
    },
    {
      "cell_type": "code",
      "source": [
        "# 18. Write a code to create a tuple with the elements 10, 20, 30 and print it.\n",
        "tuple = (10, 20, 30)\n",
        "print(tuple)"
      ],
      "metadata": {
        "colab": {
          "base_uri": "https://localhost:8080/"
        },
        "id": "_YwVf1dPq9g3",
        "outputId": "6cf23456-596f-4925-d487-f181096828ff"
      },
      "execution_count": 25,
      "outputs": [
        {
          "output_type": "stream",
          "name": "stdout",
          "text": [
            "(10, 20, 30)\n"
          ]
        }
      ]
    },
    {
      "cell_type": "code",
      "source": [
        "#  19. Write a code to access the first element of the tuple ('apple', 'banana', 'cherry')\n",
        "tuple = ('apple', 'banana', 'cherry')\n",
        "print(tuple[0])"
      ],
      "metadata": {
        "colab": {
          "base_uri": "https://localhost:8080/"
        },
        "id": "N2vCtyylrT0k",
        "outputId": "256aa895-dff2-4f82-ca1e-c8ca381931b7"
      },
      "execution_count": 26,
      "outputs": [
        {
          "output_type": "stream",
          "name": "stdout",
          "text": [
            "apple\n"
          ]
        }
      ]
    },
    {
      "cell_type": "code",
      "source": [
        "# 20. Write a code to count how many times the number 2 appears in the tuple (1, 2, 3, 2, 4, 2).\n",
        "tuple = (1, 2, 3, 2, 4, 2)\n",
        "tuple.count(2)"
      ],
      "metadata": {
        "colab": {
          "base_uri": "https://localhost:8080/"
        },
        "id": "EsmWmiRxrg42",
        "outputId": "7427e3f5-4def-4903-ee0b-a1f775ce0048"
      },
      "execution_count": 27,
      "outputs": [
        {
          "output_type": "execute_result",
          "data": {
            "text/plain": [
              "3"
            ]
          },
          "metadata": {},
          "execution_count": 27
        }
      ]
    },
    {
      "cell_type": "code",
      "source": [
        "# 21. Write a code to find the index of the element \"cat\" in the tuple ('dog', 'cat', 'rabbit').\n",
        "tuple = ('dog', 'cat', 'rabbit')\n",
        "tuple.index(\"cat\")"
      ],
      "metadata": {
        "colab": {
          "base_uri": "https://localhost:8080/"
        },
        "id": "VFyFlS6OryTt",
        "outputId": "c8e3fc33-b6ab-4311-b41f-a7c52ec42dcf"
      },
      "execution_count": 28,
      "outputs": [
        {
          "output_type": "execute_result",
          "data": {
            "text/plain": [
              "1"
            ]
          },
          "metadata": {},
          "execution_count": 28
        }
      ]
    },
    {
      "cell_type": "code",
      "source": [
        "# 22. Write a code to check if the element \"banana\" is in the tuple ('apple', 'orange', 'banana')\n",
        "tuple = ('apple', 'orange', 'banana')\n",
        "\"banana\" in tuple"
      ],
      "metadata": {
        "colab": {
          "base_uri": "https://localhost:8080/"
        },
        "id": "6FYUuS9wr8c2",
        "outputId": "266062e4-47dd-4b62-8e2e-626928708272"
      },
      "execution_count": 29,
      "outputs": [
        {
          "output_type": "execute_result",
          "data": {
            "text/plain": [
              "True"
            ]
          },
          "metadata": {},
          "execution_count": 29
        }
      ]
    },
    {
      "cell_type": "code",
      "source": [
        "# 23. Write a code to create a set with the elements 1, 2, 3, 4, 5 and print it.\n",
        "set = {1, 2, 3, 4, 5}\n",
        "print(set)"
      ],
      "metadata": {
        "colab": {
          "base_uri": "https://localhost:8080/"
        },
        "id": "UZ5liorNsFNY",
        "outputId": "efc89d6c-25f2-4ada-8563-50e6811e7b6d"
      },
      "execution_count": 30,
      "outputs": [
        {
          "output_type": "stream",
          "name": "stdout",
          "text": [
            "{1, 2, 3, 4, 5}\n"
          ]
        }
      ]
    },
    {
      "cell_type": "code",
      "source": [
        "# 24. Write a code to add the element 6 to the set {1, 2, 3, 4}\n",
        "set = {1, 2, 3, 4}\n",
        "set.add(6)\n",
        "print(set)"
      ],
      "metadata": {
        "colab": {
          "base_uri": "https://localhost:8080/"
        },
        "id": "AFl-a4IxsQsD",
        "outputId": "5cec223d-d09b-4aeb-dfbd-64b057c18ae2"
      },
      "execution_count": 31,
      "outputs": [
        {
          "output_type": "stream",
          "name": "stdout",
          "text": [
            "{1, 2, 3, 4, 6}\n"
          ]
        }
      ]
    }
  ]
}